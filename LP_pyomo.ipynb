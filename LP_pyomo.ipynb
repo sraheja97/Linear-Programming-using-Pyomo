{
 "cells": [
  {
   "cell_type": "code",
   "execution_count": 1,
   "id": "ca380567-00dc-4462-bfa2-f2a76ec818c6",
   "metadata": {},
   "outputs": [
    {
     "name": "stdout",
     "output_type": "stream",
     "text": [
      "('e1', 'p1'): 70.0\n",
      "('e1', 'p2'): 10.0\n",
      "('e1', 'p3'): 0.0\n",
      "('e1', 'p4'): 0.0\n",
      "('e2', 'p1'): 0.0\n",
      "('e2', 'p2'): 40.0\n",
      "('e2', 'p3'): 5.0\n",
      "('e2', 'p4'): 35.0\n",
      "('e3', 'p1'): 0.0\n",
      "('e3', 'p2'): 0.0\n",
      "('e3', 'p3'): 80.0\n",
      "('e3', 'p4'): 0.0\n",
      "\n",
      " Objective Value: 18825.0 \n",
      "\n"
     ]
    }
   ],
   "source": [
    "from pyomo.environ import *\n",
    "\n",
    "# Model\n",
    "model = ConcreteModel()\n",
    "\n",
    "# Sets\n",
    "model.projects = Set(initialize=['p1', 'p2', 'p3','p4'])\n",
    "model.engineers = Set(initialize=['e1','e2','e3'])\n",
    "\n",
    "# Data\n",
    "designer_score = {('e1','p1'):90,('e1','p2'):80,('e1','p3'):10,('e1','p4'):50,('e2','p1'):60,('e2','p2'):70,('e2','p3'):50,('e2','p4'):65,\n",
    "                      ('e3','p1'):70,('e3','p2'):40,('e3','p3'):80,('e3','p4'):85}\n",
    "required_hours = {'p1':70,'p2':50,'p3':85,'p4':35}\n",
    "\n",
    "# Parameters\n",
    "model.designer_score = Param(model.engineers,model.projects,initialize=designer_score)\n",
    "model.required_hours = Param(model.projects, initialize = required_hours)\n",
    "\n",
    "# Decision Variables\n",
    "model.x = Var(model.engineers,model.projects, domain=NonNegativeReals)\n",
    "\n",
    "#Constraint\n",
    "def project_requirement(model, project):\n",
    "    return sum(model.x[i,project] \n",
    "                for i in model.engineers) == model.required_hours[project]\n",
    "\n",
    "model.ProjectConstraints = Constraint(model.projects, rule=project_requirement)\n",
    "    \n",
    "def min_hours(model, engineers):\n",
    "    return sum(model.x[engineers, i]\n",
    "               for i in model.projects) <= 80\n",
    "    \n",
    "model.TimeConstraint = Constraint(model.engineers,rule=min_hours)\n",
    "\n",
    "# Objective Function\n",
    "model.total_value = Objective(expr=\n",
    "    sum(model.designer_score[i,j] * model.x[i,j] for i in model.engineers for j in model.projects), \n",
    "    sense=maximize)   \n",
    "\n",
    "# Solve the model using a solver\n",
    "SolverFactory('gurobi').solve(model)\n",
    "\n",
    "# Print the solution\n",
    "for i in model.engineers:\n",
    "    for j in model.projects:\n",
    "        print(f\"{i,j}: {model.x[i,j].value}\")\n",
    "\n",
    "# Print the total cost\n",
    "print('\\n',f\"Objective Value: {model.total_value.expr()}\",'\\n')"
   ]
  },
  {
   "cell_type": "code",
   "execution_count": null,
   "id": "f1a32909-52cc-49f3-b4d8-cda927f94c78",
   "metadata": {},
   "outputs": [],
   "source": []
  }
 ],
 "metadata": {
  "kernelspec": {
   "display_name": "Python 3 (ipykernel)",
   "language": "python",
   "name": "python3"
  },
  "language_info": {
   "codemirror_mode": {
    "name": "ipython",
    "version": 3
   },
   "file_extension": ".py",
   "mimetype": "text/x-python",
   "name": "python",
   "nbconvert_exporter": "python",
   "pygments_lexer": "ipython3",
   "version": "3.11.5"
  }
 },
 "nbformat": 4,
 "nbformat_minor": 5
}
